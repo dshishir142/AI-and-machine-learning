{
 "cells": [
  {
   "cell_type": "code",
   "execution_count": 3,
   "metadata": {},
   "outputs": [
    {
     "name": "stdout",
     "output_type": "stream",
     "text": [
      "Choose conversion type: 1. Length 2. Weight 3. Volume\n",
      "Converted value: 3280.84 ft\n"
     ]
    }
   ],
   "source": [
    "# Task 1\n",
    "\n",
    "def convert_length(value, unit):\n",
    "    if unit == 'm':\n",
    "        return value * 3.28084, 'ft'\n",
    "    elif unit == 'ft':\n",
    "        return value / 3.28084, 'm'\n",
    "    else:\n",
    "        raise ValueError(\"Invalid length unit. Choose 'm' or 'ft'.\")\n",
    "\n",
    "def convert_weight(value, unit):\n",
    "    if unit == 'kg':\n",
    "        return value * 2.20462, 'lbs'\n",
    "    elif unit == 'lbs':\n",
    "        return value / 2.20462, 'kg'\n",
    "    else:\n",
    "        raise ValueError(\"Invalid weight unit. Choose 'kg' or 'lbs'.\")\n",
    "\n",
    "def convert_volume(value, unit):\n",
    "    if unit == 'L':\n",
    "        return value * 0.264172, 'gal'\n",
    "    elif unit == 'gal':\n",
    "        return value / 0.264172, 'L'\n",
    "    else:\n",
    "        raise ValueError(\"Invalid volume unit. Choose 'L' or 'gal'.\")\n",
    "\n",
    "def main():\n",
    "    try:\n",
    "        print(\"Choose conversion type: 1. Length 2. Weight 3. Volume\")\n",
    "        choice = input(\"Enter choice (1/2/3): \")\n",
    "        \n",
    "        if choice == '1':\n",
    "            value = float(input(\"Enter value to convert: \"))\n",
    "            unit = input(\"Enter unit (m/ft): \").strip().lower()\n",
    "            result, result_unit = convert_length(value, unit)\n",
    "        elif choice == '2':\n",
    "            value = float(input(\"Enter value to convert: \"))\n",
    "            unit = input(\"Enter unit (kg/lbs): \").strip().lower()\n",
    "            result, result_unit = convert_weight(value, unit)\n",
    "        elif choice == '3':\n",
    "            value = float(input(\"Enter value to convert: \"))\n",
    "            unit = input(\"Enter unit (L/gal): \").strip().lower()\n",
    "            result, result_unit = convert_volume(value, unit)\n",
    "        else:\n",
    "            print(\"Invalid choice. Please enter 1, 2, or 3.\")\n",
    "            return\n",
    "        \n",
    "        print(f\"Converted value: {result:.2f} {result_unit}\")\n",
    "    except ValueError as e:\n",
    "        print(f\"Error: {e}\")\n",
    "    except Exception as e:\n",
    "        print(f\"Unexpected error: {e}\")\n",
    "\n",
    "if __name__ == \"__main__\":\n",
    "    main()\n"
   ]
  },
  {
   "cell_type": "code",
   "execution_count": 4,
   "metadata": {},
   "outputs": [
    {
     "name": "stdout",
     "output_type": "stream",
     "text": [
      "Choose an operation:\n",
      "1. Sum\n",
      "2. Average\n",
      "3. Maximum\n",
      "4. Minimum\n",
      "Sum: 14.0\n"
     ]
    }
   ],
   "source": [
    "def calculate_sum(numbers):\n",
    "    return sum(numbers)\n",
    "\n",
    "def calculate_average(numbers):\n",
    "    return sum(numbers) / len(numbers) if numbers else 0\n",
    "\n",
    "def find_maximum(numbers):\n",
    "    return max(numbers)\n",
    "\n",
    "def find_minimum(numbers):\n",
    "    return min(numbers)\n",
    "\n",
    "def main():\n",
    "    try:\n",
    "        print(\"Choose an operation:\")\n",
    "        print(\"1. Sum\\n2. Average\\n3. Maximum\\n4. Minimum\")\n",
    "        choice = input(\"Enter choice (1/2/3/4): \")\n",
    "        \n",
    "        numbers = input(\"Enter a list of numbers separated by spaces: \").split()\n",
    "        numbers = [float(num) for num in numbers] \n",
    "        \n",
    "        if not numbers:\n",
    "            raise ValueError(\"The list cannot be empty.\")\n",
    "        \n",
    "        if choice == '1':\n",
    "            result = calculate_sum(numbers)\n",
    "            print(f\"Sum: {result}\")\n",
    "        elif choice == '2':\n",
    "            result = calculate_average(numbers)\n",
    "            print(f\"Average: {result}\")\n",
    "        elif choice == '3':\n",
    "            result = find_maximum(numbers)\n",
    "            print(f\"Maximum: {result}\")\n",
    "        elif choice == '4':\n",
    "            result = find_minimum(numbers)\n",
    "            print(f\"Minimum: {result}\")\n",
    "        else:\n",
    "            print(\"Invalid choice. Please enter 1, 2, 3, or 4.\")\n",
    "    except ValueError as e:\n",
    "        print(f\"Error: {e}\")\n",
    "    except Exception as e:\n",
    "        print(f\"Unexpected error: {e}\")\n",
    "\n",
    "if __name__ == \"__main__\":\n",
    "    main()\n"
   ]
  },
  {
   "cell_type": "code",
   "execution_count": 5,
   "metadata": {},
   "outputs": [
    {
     "name": "stdout",
     "output_type": "stream",
     "text": [
      "Extracted elements: [1, 3, 5]\n"
     ]
    }
   ],
   "source": [
    "def extract_every_other(lst):\n",
    "    return lst[::2]\n",
    "\n",
    "if __name__ == \"__main__\":\n",
    "    lst = [1, 2, 3, 4, 5, 6]\n",
    "    print(\"Extracted elements:\", extract_every_other(lst))"
   ]
  },
  {
   "cell_type": "code",
   "execution_count": 6,
   "metadata": {},
   "outputs": [
    {
     "name": "stdout",
     "output_type": "stream",
     "text": [
      "Extracted elements: [1, 3, 5]\n",
      "Sublist: [3, 4, 5]\n"
     ]
    }
   ],
   "source": [
    "def extract_every_other(lst):\n",
    "    return lst[::2]\n",
    "\n",
    "def get_sublist(lst, start, end):\n",
    "    return lst[start:end+1]\n",
    "\n",
    "if __name__ == \"__main__\":\n",
    "    lst = [1, 2, 3, 4, 5, 6]\n",
    "    print(\"Extracted elements:\", extract_every_other(lst))\n",
    "    print(\"Sublist:\", get_sublist(lst, 2, 4))"
   ]
  },
  {
   "cell_type": "code",
   "execution_count": 7,
   "metadata": {},
   "outputs": [
    {
     "name": "stdout",
     "output_type": "stream",
     "text": [
      "Extracted elements: [1, 3, 5]\n",
      "Sublist: [3, 4, 5]\n",
      "Reversed list: [6, 5, 4, 3, 2, 1]\n"
     ]
    }
   ],
   "source": [
    "def extract_every_other(lst):\n",
    "    return lst[::2]\n",
    "\n",
    "def get_sublist(lst, start, end):\n",
    "    return lst[start:end+1]\n",
    "\n",
    "def reverse_list(lst):\n",
    "    return lst[::-1]\n",
    "\n",
    "if __name__ == \"__main__\":\n",
    "    lst = [1, 2, 3, 4, 5, 6]\n",
    "    print(\"Extracted elements:\", extract_every_other(lst))\n",
    "    print(\"Sublist:\", get_sublist(lst, 2, 4))\n",
    "    print(\"Reversed list:\", reverse_list(lst))"
   ]
  },
  {
   "cell_type": "code",
   "execution_count": 8,
   "metadata": {},
   "outputs": [
    {
     "name": "stdout",
     "output_type": "stream",
     "text": [
      "[2, 3, 4]\n"
     ]
    }
   ],
   "source": [
    "def remove_first_last(lst):\n",
    "    return lst[1:-1]\n",
    "\n",
    "example_list = [1, 2, 3, 4, 5]\n",
    "result = remove_first_last(example_list)\n",
    "print(result)\n"
   ]
  },
  {
   "cell_type": "code",
   "execution_count": 9,
   "metadata": {},
   "outputs": [
    {
     "name": "stdout",
     "output_type": "stream",
     "text": [
      "[1, 2, 3]\n"
     ]
    }
   ],
   "source": [
    "def get_first_n(lst, n):\n",
    "    return lst[:n]\n",
    "\n",
    "example_list = [1, 2, 3, 4, 5]\n",
    "n = 3\n",
    "result = get_first_n(example_list, n)\n",
    "print(result)\n"
   ]
  },
  {
   "cell_type": "code",
   "execution_count": 10,
   "metadata": {},
   "outputs": [
    {
     "name": "stdout",
     "output_type": "stream",
     "text": [
      "[4, 5]\n"
     ]
    }
   ],
   "source": [
    "def get_last_n(lst, n):\n",
    "    return lst[-n:]\n",
    "\n",
    "example_list = [1, 2, 3, 4, 5]\n",
    "n = 2\n",
    "result = get_last_n(example_list, n)\n",
    "print(result)"
   ]
  },
  {
   "cell_type": "code",
   "execution_count": 11,
   "metadata": {},
   "outputs": [
    {
     "name": "stdout",
     "output_type": "stream",
     "text": [
      "[5, 3, 1]\n"
     ]
    }
   ],
   "source": [
    "def reverse_skip(lst):\n",
    "    return lst[-2::-2]\n",
    "\n",
    "example_list = [1, 2, 3, 4, 5, 6]\n",
    "result = reverse_skip(example_list)\n",
    "print(result)"
   ]
  },
  {
   "cell_type": "code",
   "execution_count": 12,
   "metadata": {},
   "outputs": [
    {
     "name": "stdout",
     "output_type": "stream",
     "text": [
      "[1, 2, 3, 4, 5]\n"
     ]
    }
   ],
   "source": [
    "def flatten(lst):\n",
    "    return [item for sublist in lst for item in sublist]\n",
    "\n",
    "nested_list = [[1, 2], [3, 4], [5]]\n",
    "result = flatten(nested_list)\n",
    "print(result)\n"
   ]
  },
  {
   "cell_type": "code",
   "execution_count": 13,
   "metadata": {},
   "outputs": [
    {
     "name": "stdout",
     "output_type": "stream",
     "text": [
      "6\n"
     ]
    }
   ],
   "source": [
    "def access_nested_element(lst, indices):\n",
    "    for index in indices:\n",
    "        lst = lst[index]\n",
    "    return lst\n",
    "\n",
    "nested_list = [[1, 2, 3], [4, 5, 6], [7, 8, 9]]\n",
    "indices = [1, 2]\n",
    "result = access_nested_element(nested_list, indices)\n",
    "print(result)"
   ]
  },
  {
   "cell_type": "code",
   "execution_count": 14,
   "metadata": {},
   "outputs": [
    {
     "name": "stdout",
     "output_type": "stream",
     "text": [
      "21\n"
     ]
    }
   ],
   "source": [
    "def sum_nested(lst):\n",
    "    total = 0\n",
    "    for item in lst:\n",
    "        if isinstance(item, list):\n",
    "            total += sum_nested(item)\n",
    "        else:\n",
    "            total += item \n",
    "    return total\n",
    "\n",
    "nested_list = [[1, 2], [3, [4, 5]], 6]\n",
    "result = sum_nested(nested_list)\n",
    "print(result)"
   ]
  },
  {
   "cell_type": "code",
   "execution_count": 20,
   "metadata": {},
   "outputs": [
    {
     "name": "stdout",
     "output_type": "stream",
     "text": [
      "[[1], [3], [4, 5]]\n"
     ]
    }
   ],
   "source": [
    "def remove_element(lst, elem):\n",
    "    for i in range(len(lst)):\n",
    "        if isinstance(lst[i], list):\n",
    "            lst[i] = remove_element(lst[i], elem)\n",
    "        else:\n",
    "            if lst[i] == elem:\n",
    "                lst[i] = None \n",
    "    \n",
    "    lst = [item for item in lst if item is not None]\n",
    "    return lst\n",
    "\n",
    "nested_list = [[1, 2], [3, 2], [4, 5]]\n",
    "element_to_remove = 2\n",
    "result = remove_element(nested_list, element_to_remove)\n",
    "print(result)\n"
   ]
  },
  {
   "cell_type": "code",
   "execution_count": 21,
   "metadata": {},
   "outputs": [
    {
     "name": "stdout",
     "output_type": "stream",
     "text": [
      "6\n"
     ]
    }
   ],
   "source": [
    "def find_max(lst):\n",
    "    max_element = float('-inf')\n",
    "    for item in lst:\n",
    "        if isinstance(item, list):\n",
    "            max_element = max(max_element, find_max(item))\n",
    "        else:\n",
    "            max_element = max(max_element, item)\n",
    "    return max_element\n",
    "\n",
    "nested_list = [[1, 2], [3, [4, 5]], 6]\n",
    "result = find_max(nested_list)\n",
    "print(result)"
   ]
  },
  {
   "cell_type": "code",
   "execution_count": 22,
   "metadata": {},
   "outputs": [
    {
     "name": "stdout",
     "output_type": "stream",
     "text": [
      "3\n"
     ]
    }
   ],
   "source": [
    "def count_occurrences(lst, elem):\n",
    "    count = 0\n",
    "    for item in lst:\n",
    "        if isinstance(item, list):\n",
    "            count += count_occurrences(item, elem)\n",
    "        else:\n",
    "            if item == elem:\n",
    "                count += 1\n",
    "    return count\n",
    "\n",
    "nested_list = [[1, 2], [2, 3], [2, 4]]\n",
    "element_to_count = 2\n",
    "result = count_occurrences(nested_list, element_to_count)\n",
    "print(result)"
   ]
  },
  {
   "cell_type": "code",
   "execution_count": 23,
   "metadata": {},
   "outputs": [
    {
     "name": "stdout",
     "output_type": "stream",
     "text": [
      "[1, 2, 3, 4, 5, 6, 7, 8]\n"
     ]
    }
   ],
   "source": [
    "def deep_flatten(lst):\n",
    "    flattened = []\n",
    "    for item in lst:\n",
    "        if isinstance(item, list):\n",
    "            flattened.extend(deep_flatten(item))\n",
    "        else:\n",
    "            flattened.append(item)\n",
    "    return flattened\n",
    "\n",
    "nested_list = [[[1, 2], [3, 4]], [[5, 6], [7, 8]]]\n",
    "result = deep_flatten(nested_list)\n",
    "print(result)"
   ]
  },
  {
   "cell_type": "code",
   "execution_count": 29,
   "metadata": {},
   "outputs": [
    {
     "name": "stdout",
     "output_type": "stream",
     "text": [
      "3.5\n"
     ]
    }
   ],
   "source": [
    "def flatten(lst):\n",
    "    flattened = []\n",
    "    for item in lst:\n",
    "        if isinstance(item, list):\n",
    "            flattened.extend(flatten(item))\n",
    "        else:\n",
    "            flattened.append(item)\n",
    "    return flattened\n",
    "\n",
    "def average_nested(lst):\n",
    "    flattened_list = flatten(lst)\n",
    "    total = sum(flattened_list)\n",
    "    count = len(flattened_list)\n",
    "    return total / count if count > 0 else 0\n",
    "\n",
    "nested_list = [[1, 2], [3, 4], [5, 6]]\n",
    "result = average_nested(nested_list)\n",
    "print(result)\n"
   ]
  },
  {
   "cell_type": "code",
   "execution_count": 30,
   "metadata": {},
   "outputs": [
    {
     "name": "stdout",
     "output_type": "stream",
     "text": [
      "Empty Array (2x2):\n",
      "[[2.41910791e-312 3.44897822e-307]\n",
      " [2.11398144e-307 6.89796323e-307]]\n",
      "\n",
      "All Ones Array (4x2):\n",
      "[[1. 1.]\n",
      " [1. 1.]\n",
      " [1. 1.]\n",
      " [1. 1.]]\n",
      "\n",
      "Filled Array (3x3) with value 7:\n",
      "[[7 7 7]\n",
      " [7 7 7]\n",
      " [7 7 7]]\n",
      "\n",
      "Array of Zeros with same shape and type as reference array:\n",
      "[0 0 0]\n",
      "\n",
      "Array of Ones with same shape and type as reference array:\n",
      "[1 1 1]\n",
      "\n",
      "Converted List to Numpy Array:\n",
      "[1 2 3 4]\n"
     ]
    }
   ],
   "source": [
    "import numpy as np\n",
    "\n",
    "# 1. Initialize an empty array with size 2x2\n",
    "empty_array = np.empty((2, 2))\n",
    "print(\"Empty Array (2x2):\")\n",
    "print(empty_array)\n",
    "\n",
    "# 2. Initialize an all-one array with size 4x2\n",
    "ones_array = np.ones((4, 2))\n",
    "print(\"\\nAll Ones Array (4x2):\")\n",
    "print(ones_array)\n",
    "\n",
    "# 3. Return a new array of given shape and type, filled with a fill value\n",
    "shape = (3, 3)\n",
    "fill_value = 7 \n",
    "filled_array = np.full(shape, fill_value)\n",
    "print(\"\\nFilled Array (3x3) with value 7:\")\n",
    "print(filled_array)\n",
    "\n",
    "# 4. Return a new array of zeros with the same shape and type as a given array\n",
    "reference_array = np.array([1, 2, 3])\n",
    "zeros_array = np.zeros_like(reference_array)\n",
    "print(\"\\nArray of Zeros with same shape and type as reference array:\")\n",
    "print(zeros_array)\n",
    "\n",
    "# 5. Return a new array of ones with the same shape and type as a given array\n",
    "ones_like_array = np.ones_like(reference_array)\n",
    "print(\"\\nArray of Ones with same shape and type as reference array:\")\n",
    "print(ones_like_array)\n",
    "\n",
    "# 6. Convert an existing list to a numpy array\n",
    "new_list = [1, 2, 3, 4]\n",
    "numpy_array = np.array(new_list)\n",
    "print(\"\\nConverted List to Numpy Array:\")\n",
    "print(numpy_array)\n"
   ]
  },
  {
   "cell_type": "code",
   "execution_count": 31,
   "metadata": {},
   "outputs": [
    {
     "name": "stdout",
     "output_type": "stream",
     "text": [
      "Array from 10 to 49:\n",
      "[10 11 12 13 14 15 16 17 18 19 20 21 22 23 24 25 26 27 28 29 30 31 32 33\n",
      " 34 35 36 37 38 39 40 41 42 43 44 45 46 47 48 49]\n",
      "\n",
      "3x3 Matrix with values from 0 to 8:\n",
      "[[0 1 2]\n",
      " [3 4 5]\n",
      " [6 7 8]]\n",
      "\n",
      "3x3 Identity Matrix:\n",
      "[[1. 0. 0.]\n",
      " [0. 1. 0.]\n",
      " [0. 0. 1.]]\n",
      "\n",
      "Random array of size 30:\n",
      "[0.95942641 0.92802106 0.23670586 0.73327893 0.84789339 0.82893229\n",
      " 0.68121793 0.6788781  0.02442697 0.43332354 0.27130496 0.65424401\n",
      " 0.96184782 0.09674794 0.98076434 0.98683323 0.7194985  0.86785399\n",
      " 0.55637664 0.0228883  0.38928958 0.69208027 0.19802633 0.69401894\n",
      " 0.40296528 0.3138909  0.33907327 0.53963761 0.5801445  0.30165962]\n",
      "Mean of the array: 0.5640416834182908\n",
      "\n",
      "10x10 Array with random values:\n",
      "[[0.62736593 0.5769727  0.43911331 0.50200396 0.06164162 0.55743625\n",
      "  0.30104668 0.18535268 0.40138548 0.9552598 ]\n",
      " [0.8450241  0.63134808 0.69011947 0.37228069 0.78160606 0.34456776\n",
      "  0.86351223 0.07474686 0.78380433 0.23102439]\n",
      " [0.46732046 0.12707618 0.62389237 0.79171214 0.51038833 0.33536177\n",
      "  0.11627529 0.58026006 0.86337015 0.62679336]\n",
      " [0.96645801 0.51582006 0.14416764 0.27658943 0.82899116 0.80565587\n",
      "  0.62941591 0.42785142 0.85407269 0.73523095]\n",
      " [0.26967794 0.93449245 0.60936219 0.89691047 0.07093371 0.6772172\n",
      "  0.8049627  0.23492493 0.01949799 0.74401021]\n",
      " [0.62542096 0.48857975 0.094028   0.10080098 0.24591378 0.74856366\n",
      "  0.27556015 0.93690792 0.8409297  0.42465719]\n",
      " [0.77447738 0.05947953 0.90470252 0.97080092 0.76152422 0.1973653\n",
      "  0.96517239 0.26517766 0.90940703 0.41919743]\n",
      " [0.00403485 0.67330767 0.88644777 0.5565235  0.11760414 0.79229894\n",
      "  0.20279425 0.86735811 0.73911874 0.50044867]\n",
      " [0.9351501  0.11564063 0.76686361 0.46365683 0.21618478 0.51342583\n",
      "  0.51904163 0.68766947 0.18262624 0.56862779]\n",
      " [0.63595546 0.6929067  0.19920009 0.56779001 0.02877126 0.72662949\n",
      "  0.87174582 0.08968183 0.26308066 0.30021816]]\n",
      "Minimum value: 0.004034849269677121, Maximum value: 0.9708009152593979\n",
      "\n",
      "Zero array with 5th element replaced with 1:\n",
      "[0. 0. 0. 0. 1. 0. 0. 0. 0. 0.]\n",
      "\n",
      "Reversed array:\n",
      "[0 4 0 0 2 1]\n",
      "\n",
      "2D Array with 1 on the border and 0 inside:\n",
      "[[1. 1. 1. 1. 1.]\n",
      " [1. 0. 0. 0. 1.]\n",
      " [1. 0. 0. 0. 1.]\n",
      " [1. 0. 0. 0. 1.]\n",
      " [1. 1. 1. 1. 1.]]\n",
      "\n",
      "8x8 Checkerboard Pattern:\n",
      "[[0 1 0 1 0 1 0 1]\n",
      " [1 0 1 0 1 0 1 0]\n",
      " [0 1 0 1 0 1 0 1]\n",
      " [1 0 1 0 1 0 1 0]\n",
      " [0 1 0 1 0 1 0 1]\n",
      " [1 0 1 0 1 0 1 0]\n",
      " [0 1 0 1 0 1 0 1]\n",
      " [1 0 1 0 1 0 1 0]]\n"
     ]
    }
   ],
   "source": [
    "import numpy as np\n",
    "\n",
    "# 1. Create an array with values ranging from 10 to 49\n",
    "arr1 = np.arange(10, 50)\n",
    "print(\"Array from 10 to 49:\")\n",
    "print(arr1)\n",
    "\n",
    "# 2. Create a 3x3 matrix with values ranging from 0 to 8\n",
    "arr2 = np.arange(9).reshape(3, 3)\n",
    "print(\"\\n3x3 Matrix with values from 0 to 8:\")\n",
    "print(arr2)\n",
    "\n",
    "# 3. Create a 3x3 identity matrix\n",
    "arr3 = np.eye(3)\n",
    "print(\"\\n3x3 Identity Matrix:\")\n",
    "print(arr3)\n",
    "\n",
    "# 4. Create a random array of size 30 and find the mean of the array\n",
    "arr4 = np.random.random(30)\n",
    "mean_value = arr4.mean()\n",
    "print(\"\\nRandom array of size 30:\")\n",
    "print(arr4)\n",
    "print(f\"Mean of the array: {mean_value}\")\n",
    "\n",
    "# 5. Create a 10x10 array with random values and find the minimum and maximum values\n",
    "arr5 = np.random.random((10, 10))\n",
    "min_value = arr5.min()\n",
    "max_value = arr5.max()\n",
    "print(\"\\n10x10 Array with random values:\")\n",
    "print(arr5)\n",
    "print(f\"Minimum value: {min_value}, Maximum value: {max_value}\")\n",
    "\n",
    "# 6. Create a zero array of size 10 and replace 5th element with 1\n",
    "arr6 = np.zeros(10)\n",
    "arr6[4] = 1\n",
    "print(\"\\nZero array with 5th element replaced with 1:\")\n",
    "print(arr6)\n",
    "\n",
    "# 7. Reverse an array arr = [1, 2, 0, 0, 4, 0]\n",
    "arr7 = np.array([1, 2, 0, 0, 4, 0])\n",
    "reversed_arr = arr7[::-1]\n",
    "print(\"\\nReversed array:\")\n",
    "print(reversed_arr)\n",
    "\n",
    "# 8. Create a 2D array with 1 on the border and 0 inside\n",
    "arr8 = np.ones((5, 5))\n",
    "arr8[1:-1, 1:-1] = 0\n",
    "print(\"\\n2D Array with 1 on the border and 0 inside:\")\n",
    "print(arr8)\n",
    "\n",
    "# 9. Create an 8x8 matrix and fill it with a checkerboard pattern\n",
    "arr9 = np.zeros((8, 8), dtype=int)\n",
    "arr9[1::2, ::2] = 1\n",
    "arr9[::2, 1::2] = 1\n",
    "print(\"\\n8x8 Checkerboard Pattern:\")\n",
    "print(arr9)\n"
   ]
  },
  {
   "cell_type": "code",
   "execution_count": 32,
   "metadata": {},
   "outputs": [
    {
     "name": "stdout",
     "output_type": "stream",
     "text": [
      "Addition of x and y:\n",
      "[[ 6  8]\n",
      " [10 13]]\n",
      "\n",
      "Subtraction of x and y:\n",
      "[[-4 -4]\n",
      " [-4 -3]]\n",
      "\n",
      "Multiplication of x with 2:\n",
      "[[ 2  4]\n",
      " [ 6 10]]\n",
      "\n",
      "Square of each element of x:\n",
      "[[ 1  4]\n",
      " [ 9 25]]\n",
      "\n",
      "Dot product between v and w:\n",
      "219\n",
      "\n",
      "Dot product between x and v:\n",
      "[29 77]\n",
      "\n",
      "Dot product between x and y:\n",
      "[[19 22]\n",
      " [50 58]]\n",
      "\n",
      "Concatenating x and y along row:\n",
      "[[1 2]\n",
      " [3 5]\n",
      " [5 6]\n",
      " [7 8]]\n",
      "\n",
      "Concatenating v and w along column:\n",
      "[[ 9 11]\n",
      " [10 12]]\n",
      "\n",
      "Error when concatenating x and v: all the input arrays must have same number of dimensions, but the array at index 0 has 2 dimension(s) and the array at index 1 has 1 dimension(s)\n"
     ]
    }
   ],
   "source": [
    "import numpy as np\n",
    "\n",
    "# Given arrays\n",
    "x = np.array([[1, 2], [3, 5]])\n",
    "y = np.array([[5, 6], [7, 8]])\n",
    "v = np.array([9, 10])\n",
    "w = np.array([11, 12])\n",
    "\n",
    "# 1. Add the two arrays\n",
    "addition_result = x + y\n",
    "print(\"Addition of x and y:\")\n",
    "print(addition_result)\n",
    "\n",
    "# 2. Subtract the two arrays\n",
    "subtraction_result = x - y\n",
    "print(\"\\nSubtraction of x and y:\")\n",
    "print(subtraction_result)\n",
    "\n",
    "# 3. Multiply the array with any integers of your choice\n",
    "multiplication_result = x * 2\n",
    "print(\"\\nMultiplication of x with 2:\")\n",
    "print(multiplication_result)\n",
    "\n",
    "# 4. Find the square of each element of the array\n",
    "squared_result = np.square(x)\n",
    "print(\"\\nSquare of each element of x:\")\n",
    "print(squared_result)\n",
    "\n",
    "# 5. Find the dot product between:\n",
    "# - v and w\n",
    "dot_product_v_w = np.dot(v, w)\n",
    "print(\"\\nDot product between v and w:\")\n",
    "print(dot_product_v_w)\n",
    "\n",
    "# - x and v\n",
    "dot_product_x_v = np.dot(x, v)\n",
    "print(\"\\nDot product between x and v:\")\n",
    "print(dot_product_x_v)\n",
    "\n",
    "# - x and y\n",
    "dot_product_x_y = np.dot(x, y)\n",
    "print(\"\\nDot product between x and y:\")\n",
    "print(dot_product_x_y)\n",
    "\n",
    "# 6. Concatenate x and y along row and concatenate v and w along column.\n",
    "concatenate_x_y_row = np.concatenate((x, y), axis=0)\n",
    "print(\"\\nConcatenating x and y along row:\")\n",
    "print(concatenate_x_y_row)\n",
    "\n",
    "concatenate_v_w_column = np.concatenate((v.reshape(-1, 1), w.reshape(-1, 1)), axis=1)\n",
    "print(\"\\nConcatenating v and w along column:\")\n",
    "print(concatenate_v_w_column)\n",
    "\n",
    "# 7. Concatenate x and v; if you get an error, observe and explain why you got the error.\n",
    "try:\n",
    "    concatenate_x_v = np.concatenate((x, v), axis=0)\n",
    "    print(\"\\nConcatenating x and v:\")\n",
    "    print(concatenate_x_v)\n",
    "except Exception as e:\n",
    "    print(\"\\nError when concatenating x and v:\", e)\n"
   ]
  },
  {
   "cell_type": "code",
   "execution_count": 33,
   "metadata": {},
   "outputs": [
    {
     "name": "stdout",
     "output_type": "stream",
     "text": [
      "A * A_inv = \n",
      " [[1.00000000e+00 0.00000000e+00]\n",
      " [1.77635684e-15 1.00000000e+00]]\n",
      "\n",
      "AB = \n",
      " [[23 13]\n",
      " [51 29]]\n",
      "\n",
      "BA = \n",
      " [[36 44]\n",
      " [13 16]]\n",
      "\n",
      "(AB)^T = \n",
      " [[23 51]\n",
      " [13 29]]\n",
      "\n",
      "B^T * A^T = \n",
      " [[23 51]\n",
      " [13 29]]\n"
     ]
    }
   ],
   "source": [
    "import numpy as np\n",
    "\n",
    "A = np.array([[3, 4], [7, 8]])\n",
    "B = np.array([[5, 3], [2, 1]])\n",
    "\n",
    "I = np.eye(2)\n",
    "\n",
    "A_inv = np.linalg.inv(A)\n",
    "\n",
    "# Prove A * A_inv = I\n",
    "result_1 = np.dot(A, A_inv)\n",
    "print(\"A * A_inv = \\n\", result_1)\n",
    "\n",
    "AB = np.dot(A, B)\n",
    "BA = np.dot(B, A)\n",
    "\n",
    "# Prove AB != BA\n",
    "print(\"\\nAB = \\n\", AB)\n",
    "print(\"\\nBA = \\n\", BA)\n",
    "\n",
    "# Prove (AB)^T = B^T * A^T\n",
    "transpose_AB = np.transpose(AB)\n",
    "transpose_BA = np.dot(np.transpose(B), np.transpose(A))\n",
    "\n",
    "print(\"\\n(AB)^T = \\n\", transpose_AB)\n",
    "print(\"\\nB^T * A^T = \\n\", transpose_BA)"
   ]
  },
  {
   "cell_type": "code",
   "execution_count": 34,
   "metadata": {},
   "outputs": [
    {
     "name": "stdout",
     "output_type": "stream",
     "text": [
      "\n",
      "Solution using Inverse Method (X = A_inv * B):\n",
      "x =  2.0 , y =  1.0 , z =  -2.0\n",
      "\n",
      "Solution using np.linalg.solve:\n",
      "x =  2.0 , y =  1.0000000000000002 , z =  -2.0\n"
     ]
    }
   ],
   "source": [
    "# Solve the system of linear equations using Inverse Methods\n",
    "A_eq = np.array([[2, -3, 1], [1, -1, 2], [3, 1, -1]])\n",
    "B_eq = np.array([-1, -3, 9])\n",
    "\n",
    "# Solve for X using Inverse Method (X = A_inv * B)\n",
    "A_inv_eq = np.linalg.inv(A_eq)\n",
    "X = np.dot(A_inv_eq, B_eq)\n",
    "print(\"\\nSolution using Inverse Method (X = A_inv * B):\")\n",
    "print(\"x = \", X[0], \", y = \", X[1], \", z = \", X[2])\n",
    "\n",
    "# Solve using np.linalg.solve()\n",
    "X_solved = np.linalg.solve(A_eq, B_eq)\n",
    "print(\"\\nSolution using np.linalg.solve:\")\n",
    "print(\"x = \", X_solved[0], \", y = \", X_solved[1], \", z = \", X_solved[2])"
   ]
  }
 ],
 "metadata": {
  "kernelspec": {
   "display_name": "Python 3",
   "language": "python",
   "name": "python3"
  },
  "language_info": {
   "codemirror_mode": {
    "name": "ipython",
    "version": 3
   },
   "file_extension": ".py",
   "mimetype": "text/x-python",
   "name": "python",
   "nbconvert_exporter": "python",
   "pygments_lexer": "ipython3",
   "version": "3.12.7"
  }
 },
 "nbformat": 4,
 "nbformat_minor": 2
}
